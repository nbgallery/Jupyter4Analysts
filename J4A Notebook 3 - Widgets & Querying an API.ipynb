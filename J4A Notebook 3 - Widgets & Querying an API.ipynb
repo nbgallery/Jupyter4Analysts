{
 "cells": [
  {
   "cell_type": "markdown",
   "metadata": {},
   "source": [
    "Jupyter for Analysts - Notebook 3"
   ]
  },
  {
   "cell_type": "markdown",
   "metadata": {
    "ExecuteTime": {
     "end_time": "2019-01-23T18:09:18.178583Z",
     "start_time": "2019-01-23T18:09:18.172912Z"
    }
   },
   "source": [
    "# Welcome to Jupyter for Analysts Notebook 3!!"
   ]
  },
  {
   "cell_type": "markdown",
   "metadata": {},
   "source": [
    "<div class='row'>\n",
    "   <div class='col-md-5'>\n",
    "    So by now you have queried nbgallery for notebooks, interacted with code in notebooks, found a notebook on nbgallery, and ran at least <b> 2 notebooks! </b> \n",
    "    <br>\n",
    "    <br> This is seriously AMAZING progress and you should be incredibly proud. Being able to use Jupyter is a huge advantage for you! We promise, there will be notebooks out there that you will want to use for your work! :)\n",
    "    <br>\n",
    "    <br> This notebook is going to dive in to more interaction with the code you are running. We will be querying ---service --- using <b>'widgets' </b>. You have actually already seen a widget but probably didn't notice. That is perfectly OK! We are going to show you a couple more widgets you might see in notebooks.\n",
    "    <br>\n",
    "    </div>\n",
    "    <div class='col-md-7'>\n",
    "        <img src=\"J4A_Pics/minions.jpg\">\n",
    "    </div>\n",
    "    <br>\n",
    "<hr>"
   ]
  },
  {
   "cell_type": "markdown",
   "metadata": {},
   "source": [
    "<h3>Let's start by looking at some basic widgets. Run the new few cells below to see widgets in action!</h3>"
   ]
  },
  {
   "cell_type": "markdown",
   "metadata": {},
   "source": [
    "Ok. First step, let's import the widgets in to this notebook."
   ]
  },
  {
   "cell_type": "code",
   "execution_count": null,
   "metadata": {},
   "outputs": [],
   "source": [
    "from IPython import display as disp\n",
    "from IPython.display import display, HTML\n",
    "from ipywidgets import widgets, Layout\n",
    "better_layout =  {'height' : '100px', 'width':'75%' }"
   ]
  },
  {
   "cell_type": "markdown",
   "metadata": {},
   "source": [
    "<hr>\n",
    "Now start running the code below to play with widgets!\n",
    "<br>\n",
    "<br>\n",
    "The first one you will see is the string widget. Notice that there is a textbox for you to type in. Go ahead type something (anything you want) in the box and watch the text JUST below the box change! :) <i> Don't worry about the actual output here. </i>"
   ]
  },
  {
   "cell_type": "code",
   "execution_count": null,
   "metadata": {},
   "outputs": [],
   "source": [
    "from ipywidgets import *\n",
    "def f(x):\n",
    "    print(x)\n",
    "interact(f, x=\"Type stuff here\") "
   ]
  },
  {
   "cell_type": "markdown",
   "metadata": {},
   "source": [
    "<b>Thank u, next. </b>\n",
    "<br>\n",
    "<br>\n",
    "Ok, run the code below to see a 'progress bar' widget in action. This particular progress bar is just counting up to a number, but in other notebooks this could be used to show you how much longer you have until your results are ready! <i>Notice how it takes until the progress bar is done for the asterisk to turn into a number!</i>"
   ]
  },
  {
   "cell_type": "code",
   "execution_count": null,
   "metadata": {},
   "outputs": [],
   "source": [
    "import time\n",
    "progress_bar = widgets.FloatProgress(min=0.0, max=2.0)\n",
    "display(progress_bar)\n",
    "x = 0\n",
    "while x != 2:\n",
    "    x+=.25\n",
    "    progress_bar.value = x\n",
    "    time.sleep(1)\n",
    "print(\"Complete!\")"
   ]
  },
  {
   "cell_type": "markdown",
   "metadata": {},
   "source": [
    "<hr>\n",
    "As I'm writing this notebook, there is a big <b>Oreo cookie</b> discussion going on in the office. (How much cream is there in the regular, double, mega, and most stufed? Is there a ratio?)\n",
    "<br>\n",
    "<br> Sorry - I sidetracked. But now I am hungry for cookies! How many should I eat?\n",
    "<br> \n",
    "<br> Run the code below and let me know using the slider widget!"
   ]
  },
  {
   "cell_type": "code",
   "execution_count": null,
   "metadata": {},
   "outputs": [],
   "source": [
    "widgets.FloatSlider(min=0, max=10, step=0.5,description='Number of Cookies' )"
   ]
  },
  {
   "cell_type": "markdown",
   "metadata": {},
   "source": [
    "<b> Okay... that's fine</b>, but what if you let me choose a range of the number of cookies I could eat? (Run the next cell!)"
   ]
  },
  {
   "cell_type": "code",
   "execution_count": null,
   "metadata": {},
   "outputs": [],
   "source": [
    "widgets.FloatRangeSlider(min=0, max=10, step=0.5, description='Cookie Range')"
   ]
  },
  {
   "cell_type": "markdown",
   "metadata": {},
   "source": [
    "Do you think I *actually* ate within the range of cookies you gave me?\n",
    "<br>\n",
    "<br> Run the next cell, and check True <b>or</b> False. <b> Note: You do not have to run this cell again once you click in the check box. Just run the cell after that to see my response! "
   ]
  },
  {
   "cell_type": "code",
   "execution_count": null,
   "metadata": {},
   "outputs": [],
   "source": [
    "f = widgets.Checkbox(description='False?:', value=False)\n",
    "t = widgets.Checkbox(description='True?:', value=True)\n",
    "display(f, t)"
   ]
  },
  {
   "cell_type": "code",
   "execution_count": null,
   "metadata": {},
   "outputs": [],
   "source": [
    "if f.value==True:\n",
    "    print(\"Are you sure?\")\n",
    "else:\n",
    "    print(\"Yeah.... probably :)\")"
   ]
  },
  {
   "cell_type": "markdown",
   "metadata": {},
   "source": [
    "# Exercise 4: Who's in space right now? Querying an API"
   ]
  },
  {
   "cell_type": "markdown",
   "metadata": {},
   "source": [
    "Take a stab at running the code below, which is broken up in to a few cells. This code goes to ---service--- and outputs the information you want (using widgets!)\n",
    "<br>\n",
    "<br>\n",
    "<b style='color:#e65c00'>Okay... see how far you make it on your own.</b> <b> YOU CAN DO IT! </b>\n",
    "<br>\n",
    "<br>\n",
    "<b>Note: Not every cell will return output. Wait for the asterisk to go away, then run the next cell! </b>"
   ]
  },
  {
   "cell_type": "code",
   "execution_count": null,
   "metadata": {},
   "outputs": [],
   "source": [
    "#imports a library and requests access to the Open Notify API from NASA\n",
    "import requests\n",
    "people = requests.get('http://api.open-notify.org/astros.json')\n",
    "people = people.json()"
   ]
  },
  {
   "cell_type": "code",
   "execution_count": null,
   "metadata": {},
   "outputs": [],
   "source": [
    "#creates widgets to prompt user for information they want from the Open Notify API\n",
    "name = widgets.Checkbox(description='Full Name', value=True)\n",
    "space_craft = widgets.Checkbox(description='Space Craft', value=True)\n",
    "total_people = widgets.Checkbox(description='Total Number of People in Space', value=True)\n",
    "\n",
    "#displays the widgets\n",
    "display(name, space_craft, total_people)"
   ]
  },
  {
   "cell_type": "code",
   "execution_count": null,
   "metadata": {},
   "outputs": [],
   "source": [
    "#checks to see if astronaut name was picked. if it was picked, then it tells you name of astronauts currently in space\n",
    "if name.value==True:\n",
    "    for person in people['people']:\n",
    "        print(\"Astronaut:\",person['name'])\n",
    "\n",
    "#prints a blank line\n",
    "print()\n",
    "\n",
    "#checks to see if space craft name was picked. if it was picked, then it tells you name of \n",
    "#space craft currently in space\n",
    "if space_craft.value == True:\n",
    "    for person in people['people']:\n",
    "        print(\"Space Craft for\", person['name'], \":\", person['craft'])\n",
    "        \n",
    "#prints a blank line\n",
    "print()\n",
    "\n",
    "#checks to see if total number of people in space was picked. if it was picked, then it tells you the total number of \n",
    "#astronauts currently in space\n",
    "if total_people.value == True:\n",
    "    print(\"Total Number of People in Space:\", people['number'])\n",
    "\n",
    "#checks to see if no value was selected. if no value selected, an error message is printed \n",
    "#to ask user to select a value\n",
    "if total_people.value==False and space_craft.value==False and name.value==False:\n",
    "    print(\"Please check an item in the widget box above before running this code cell.\")"
   ]
  },
  {
   "cell_type": "markdown",
   "metadata": {},
   "source": [
    "<hr>\n",
    "<div class='alert alert-block alert-info' align='center'>\n",
    "<br>Great job! Jupyter notebooks can be pretty fun and easy :)\n",
    "<br>\n",
    "    <br>Congrats! You are ready to go on to <a href=\"J4A Notebook 4 - Facing Other Programming Languages.ipynb\"><b>Notebook 4!</b></a>\n",
    "    <br>\n",
    "    <br>\n",
    "    <a href=\"Jupyter 4 Analysts (J4A).ipynb\">Jupyter 4 Analyts Homepage</a>"
   ]
  }
 ],
 "metadata": {
  "kernelspec": {
   "display_name": "Python 3",
   "language": "python",
   "name": "python3"
  },
  "language_info": {
   "codemirror_mode": {
    "name": "ipython",
    "version": 3
   },
   "file_extension": ".py",
   "mimetype": "text/x-python",
   "name": "python",
   "nbconvert_exporter": "python",
   "pygments_lexer": "ipython3",
   "version": "3.7.3"
  },
  "toc": {
   "base_numbering": 1,
   "nav_menu": {},
   "number_sections": true,
   "sideBar": false,
   "skip_h1_title": false,
   "title_cell": "Table of Contents",
   "title_sidebar": "Contents",
   "toc_cell": false,
   "toc_position": {},
   "toc_section_display": true,
   "toc_window_display": false
  },
  "varInspector": {
   "cols": {
    "lenName": 16,
    "lenType": 16,
    "lenVar": 40
   },
   "kernels_config": {
    "python": {
     "delete_cmd_postfix": "",
     "delete_cmd_prefix": "del ",
     "library": "var_list.py",
     "varRefreshCmd": "print(var_dic_list())"
    },
    "r": {
     "delete_cmd_postfix": ") ",
     "delete_cmd_prefix": "rm(",
     "library": "var_list.r",
     "varRefreshCmd": "cat(var_dic_list()) "
    }
   },
   "types_to_exclude": [
    "module",
    "function",
    "builtin_function_or_method",
    "instance",
    "_Feature"
   ],
   "window_display": false
  }
 },
 "nbformat": 4,
 "nbformat_minor": 2
}
