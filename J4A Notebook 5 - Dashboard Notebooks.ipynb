{
 "cells": [
  {
   "cell_type": "markdown",
   "metadata": {
    "extensions": {
     "jupyter_dashboards": {
      "version": 1,
      "views": {
       "grid_default": {
        "col": 0,
        "height": 2,
        "hidden": false,
        "row": 0,
        "width": 4
       },
       "report_default": {
        "hidden": false
       }
      }
     }
    }
   },
   "source": [
    "Jupyter for Analysts - Notebook 5"
   ]
  },
  {
   "cell_type": "markdown",
   "metadata": {
    "extensions": {
     "jupyter_dashboards": {
      "version": 1,
      "views": {
       "grid_default": {
        "col": 0,
        "height": 4,
        "hidden": false,
        "row": 2,
        "width": 4
       },
       "report_default": {
        "hidden": false
       }
      }
     }
    }
   },
   "source": [
    "# Welcome to Jupyter for Analysts Notebook 5!!!"
   ]
  },
  {
   "cell_type": "markdown",
   "metadata": {
    "extensions": {
     "jupyter_dashboards": {
      "version": 1,
      "views": {
       "grid_default": {
        "col": 4,
        "height": 4,
        "hidden": false,
        "row": 0,
        "width": 8
       },
       "report_default": {
        "hidden": false
       }
      }
     }
    }
   },
   "source": [
    "This notebook is called a **dashboard notebook**. A dashboard notebook hides ALL the code from you! Pretty cool, huh?\n",
    "\n",
    "This notebook queries Yahoo Finance using the [yfinance](https://github.com/ranaroussi/yfinance) Python module and pulls back information for the stock symbol you select using widgets!\n",
    "\n",
    "**To view as a dashboard, just click the Voila button on the toolbar above!**\n",
    "\n",
    "----"
   ]
  },
  {
   "cell_type": "code",
   "execution_count": null,
   "metadata": {
    "extensions": {
     "jupyter_dashboards": {
      "version": 1,
      "views": {
       "grid_default": {},
       "report_default": {}
      }
     }
    }
   },
   "outputs": [],
   "source": [
    "import ipywidgets as widgets\n",
    "import plotly.graph_objects as go\n",
    "import yfinance as yf"
   ]
  },
  {
   "cell_type": "code",
   "execution_count": null,
   "metadata": {
    "extensions": {
     "jupyter_dashboards": {
      "version": 1,
      "views": {
       "grid_default": {},
       "report_default": {}
      }
     }
    }
   },
   "outputs": [],
   "source": [
    "html_template = '''\n",
    "<img src=\"{}\"><br>\n",
    "<b>{}</b>\n",
    "<h3>{}</h3>\n",
    "{}<br>\n",
    "{}, {} {}<br>\n",
    "'''\n",
    "\n",
    "def get_html(ticker):\n",
    "    symbol = ticker.ticker\n",
    "    info = ticker.info\n",
    "    return html_template.format(\n",
    "        info.get('logo_url', ''),\n",
    "        symbol,\n",
    "        info.get('longName', symbol),\n",
    "        info.get('address1', 'No address'),\n",
    "        info.get('city', 'No city'),\n",
    "        info.get('state', 'XX'),\n",
    "        info.get('zip', '00000')\n",
    "    )\n",
    "    \n",
    "def get_chart(ticker):\n",
    "    df = ticker.history('1y')\n",
    "    return go.Figure(data=[go.Candlestick(\n",
    "        x=df.index,\n",
    "        open=df['Open'],\n",
    "        high=df['High'],\n",
    "        low=df['Low'],\n",
    "        close=df['Close']\n",
    "    )])"
   ]
  },
  {
   "cell_type": "code",
   "execution_count": null,
   "metadata": {
    "extensions": {
     "jupyter_dashboards": {
      "version": 1,
      "views": {
       "grid_default": {},
       "report_default": {}
      }
     }
    }
   },
   "outputs": [],
   "source": [
    "header = widgets.HTML('<h1>Query Stock Ticker</h1>')\n",
    "symbol_input = widgets.Text(description='Symbol:', value='MSFT')\n",
    "submit_button = widgets.Button(description='Submit')\n",
    "html_output = widgets.HTML()\n",
    "graph_output = go.FigureWidget()\n",
    "inputs = widgets.HBox([symbol_input, submit_button])\n",
    "outputs = widgets.HBox([html_output])\n",
    "layout = widgets.VBox([header, inputs, outputs])\n",
    "\n",
    "def run(_):\n",
    "    symbol = symbol_input.value\n",
    "    html_output.value = 'Please wait while we fetch the stock info...'\n",
    "    ticker = yf.Ticker(symbol)\n",
    "    html_output.value = get_html(ticker)\n",
    "    figure = get_chart(ticker)\n",
    "    fw = go.FigureWidget(figure)\n",
    "    outputs.children = [html_output, fw]\n",
    "\n",
    "submit_button.on_click(run)\n",
    "layout"
   ]
  },
  {
   "cell_type": "markdown",
   "metadata": {
    "extensions": {
     "jupyter_dashboards": {
      "version": 1,
      "views": {
       "grid_default": {
        "hidden": true
       },
       "report_default": {
        "hidden": true
       }
      }
     }
    }
   },
   "source": [
    "<hr>\n",
    "<div class='alert alert-block alert-info' align='center'>\n",
    "<br>Play around a bit, then head on over to <a href=\"J4A Notebook 6 - Notebook Errors.ipynb\"><b>Notebook 6</b></a> in the Jupyter for Analysts series!\n",
    "<br>\n",
    "<br> <a href=\"Jupyter 4 Analysts (J4A).ipynb\">Jupyter 4 Analyts Homepage</a>"
   ]
  }
 ],
 "metadata": {
  "extensions": {
   "jupyter_dashboards": {
    "activeView": "report_default",
    "version": 1,
    "views": {
     "grid_default": {
      "cellMargin": 10,
      "defaultCellHeight": 20,
      "maxColumns": 12,
      "name": "grid",
      "type": "grid"
     },
     "report_default": {
      "name": "report",
      "type": "report"
     }
    }
   }
  },
  "kernelspec": {
   "display_name": "Python 3",
   "language": "python",
   "name": "python3"
  },
  "language_info": {
   "codemirror_mode": {
    "name": "ipython",
    "version": 3
   },
   "file_extension": ".py",
   "mimetype": "text/x-python",
   "name": "python",
   "nbconvert_exporter": "python",
   "pygments_lexer": "ipython3",
   "version": "3.7.3"
  },
  "toc": {
   "base_numbering": 1,
   "nav_menu": {},
   "number_sections": true,
   "sideBar": true,
   "skip_h1_title": false,
   "title_cell": "Table of Contents",
   "title_sidebar": "Contents",
   "toc_cell": false,
   "toc_position": {},
   "toc_section_display": true,
   "toc_window_display": false
  },
  "varInspector": {
   "cols": {
    "lenName": 16,
    "lenType": 16,
    "lenVar": 40
   },
   "kernels_config": {
    "python": {
     "delete_cmd_postfix": "",
     "delete_cmd_prefix": "del ",
     "library": "var_list.py",
     "varRefreshCmd": "print(var_dic_list())"
    },
    "r": {
     "delete_cmd_postfix": ") ",
     "delete_cmd_prefix": "rm(",
     "library": "var_list.r",
     "varRefreshCmd": "cat(var_dic_list()) "
    }
   },
   "types_to_exclude": [
    "module",
    "function",
    "builtin_function_or_method",
    "instance",
    "_Feature"
   ],
   "window_display": false
  }
 },
 "nbformat": 4,
 "nbformat_minor": 2
}
