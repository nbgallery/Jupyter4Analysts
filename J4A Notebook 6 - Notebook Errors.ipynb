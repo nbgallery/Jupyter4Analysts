{
 "cells": [
  {
   "cell_type": "markdown",
   "metadata": {},
   "source": [
    "Jupyter for Analysts - Notebook 6"
   ]
  },
  {
   "cell_type": "markdown",
   "metadata": {},
   "source": [
    "# Welcome to Jupyter for Analysts Notebook 6!!!"
   ]
  },
  {
   "cell_type": "markdown",
   "metadata": {},
   "source": [
    "<div class='row'>\n",
    "   <div class='col-md-5'>\n",
    "    <br>\n",
    "    <br>\n",
    "    <br>\n",
    "    <p style='text-align: center'>This notebook is going to be very straighforward and short. (That means we are getting close to the end! Hint hint, wink wink)\n",
    "    <br>We are going to dive in to some more Jupyter syntax and what to do when you recieve an error in a Jupyter notebook. We don't want you to stress if you get an error! They are normally easily taken care of, but sometimes it may require some more work... errr effort. No 'coding' work ;)\n",
    "    <br>\n",
    "    <br>   \n",
    "    <br>Ok, so what does an error in Jupyter look like? \n",
    "    <br>\n",
    "    <br>Run the cell below and I will show you!\n",
    "    </p>\n",
    "    </div>\n",
    "    <div class='col-md-7'> \n",
    "       <img src=\"J4A_Pics/errors.jpg\">\n",
    "    </div>\n",
    "</div>"
   ]
  },
  {
   "cell_type": "code",
   "execution_count": null,
   "metadata": {},
   "outputs": [],
   "source": [
    "x = 5\n",
    "\n",
    "if x > 5\n",
    "    print 'hello'\n",
    "else\n",
    "    print 'goodbye'"
   ]
  },
  {
   "cell_type": "markdown",
   "metadata": {},
   "source": [
    "# What now?"
   ]
  },
  {
   "cell_type": "markdown",
   "metadata": {},
   "source": [
    "Not pretty, not fun, and worst of all... I can't do anything with this because something went wrong! There are more error messages that could pop up. This is just an example!\n",
    "<br>\n",
    "<hr>\n",
    "<br>\n",
    "<b>Here are a couple of options that might help when you get an error:</b>\n",
    "<br>"
   ]
  },
  {
   "cell_type": "markdown",
   "metadata": {},
   "source": [
    "<b style='color:#e65c00'>1. Restart the kernel</b>"
   ]
  },
  {
   "cell_type": "markdown",
   "metadata": {},
   "source": [
    "<b>Why:</b> Sometimes, it's just best to start the notebook over!\n",
    "<br>\n",
    "<br> <b>How:</b> There is actually a couple of ways:\n",
    "<br> 1. The round arrow button in the dashboard\n",
    "<br> <img src=\"J4A_Pics/restart_kernel.png\">\n",
    "<br> 2. Go to Kernel -> Restart in the menu\n",
    "<br> <img src=\"J4A_Pics/kernel_dashboard.png\">"
   ]
  },
  {
   "cell_type": "markdown",
   "metadata": {},
   "source": [
    "<b style='color:#e65c00'>2. Check the health metric</b>"
   ]
  },
  {
   "cell_type": "markdown",
   "metadata": {},
   "source": [
    "<b>Why:</b> The health metric is a nbgallery speciality. It tells you if the code run in that cell is healthy or not. In other words, it checks the code in this cell have a lot of errors when other people run it or not.\n",
    "<br>\n",
    "<br><b> How: </b> Look at the notebook in nbgallery (before hitting the 'Run in Jupyter' banner). On the left hand side of code cells, there is a little 'medkit' icon. Hover over that icon to see the <b>health status of that specific cell. </b> \n",
    "<br>\n",
    "<img src=\"J4A_Pics/cell_health.png\">\n",
    "<br>\n",
    "<br>---->If a specific code cell is <b>not healthy</b>, then the medkit icon would show up red instead of green.\n",
    "<br>\n",
    "<img src=\"J4A_Pics/unhealthy_cell.png\">\n",
    "<br>\n",
    "<br>***Interested in the health status of the <b>entire notebook</b>? In the nbgallery view, scroll to the top of the notebook. Under the author is a bunch of icons. Pay attention to the medkit icon! That shows the overall health of the notebook.\n",
    "<br>\n",
    "<img src=\"J4A_Pics/overall_notebook_health.png\">"
   ]
  },
  {
   "cell_type": "markdown",
   "metadata": {},
   "source": [
    "<b style='color:#e65c00'> 3. Contact the author </b>"
   ]
  },
  {
   "cell_type": "markdown",
   "metadata": {},
   "source": [
    "<b> Why: </b> Well, for one they should know that their public notebook has errors. Other people are also getting these errors, and the author is responsible for fixing it (if they want to have a good healthy notebook). Also, the author may be able to help you through the notebook so that you do not get an error. Maybe the notebook has something special to it you aren't used to! \n",
    "<br>\n",
    "<br> <b> How: </b> Look at the notebook in nbgallery (before hitting the 'Run in Jupyter' button). Under the title is the authors name! "
   ]
  },
  {
   "cell_type": "markdown",
   "metadata": {},
   "source": [
    "<hr>\n",
    "For the sake of the cell error above, you would have to contact the author. There is an actual error in the code that I would need to fix. You can also check the health metric for the cell on nbgallery - AHH it's red! Bad bad bad...\n",
    "<br>\n",
    "<br>\n",
    "<b>PS: Please don't contact me about that cell or this notebook. I know it's a bad egg :) </b>\n",
    "<hr>"
   ]
  },
  {
   "cell_type": "markdown",
   "metadata": {},
   "source": [
    "<div class='alert alert-block alert-info' align='center'> Congratulations! You did it. You have finished Jupyter for Analysts!\n",
    "<br>\n",
    "<br> We hope you find Jupyter useful in the near future!\n",
    "<br>\n",
    "</div>"
   ]
  }
 ],
 "metadata": {
  "gallery": {
   "commit": "48b59897-082b-4e5f-af6a-183ade28cc94",
   "filename": null,
   "git_commit_id": "46876c653fdb1388d08f4396e5d95a2bbc6041d1",
   "link": "48b59897-082b-4e5f-af6a-183ade28cc94",
   "staging_id": "938c39ec-2f77-40b9-a502-faa0db1b7d32",
   "uuid": "48b59897-082b-4e5f-af6a-183ade28cc94"
  },
  "kernelspec": {
   "display_name": "Python 3",
   "language": "python",
   "name": "python3"
  },
  "language_info": {
   "codemirror_mode": {
    "name": "ipython",
    "version": 3
   },
   "file_extension": ".py",
   "mimetype": "text/x-python",
   "name": "python",
   "nbconvert_exporter": "python",
   "pygments_lexer": "ipython3",
   "version": "3.7.4"
  },
  "toc": {
   "base_numbering": 1,
   "nav_menu": {},
   "number_sections": true,
   "sideBar": true,
   "skip_h1_title": false,
   "title_cell": "Table of Contents",
   "title_sidebar": "Contents",
   "toc_cell": false,
   "toc_position": {},
   "toc_section_display": true,
   "toc_window_display": false
  },
  "varInspector": {
   "cols": {
    "lenName": 16,
    "lenType": 16,
    "lenVar": 40
   },
   "kernels_config": {
    "python": {
     "delete_cmd_postfix": "",
     "delete_cmd_prefix": "del ",
     "library": "var_list.py",
     "varRefreshCmd": "print(var_dic_list())"
    },
    "r": {
     "delete_cmd_postfix": ") ",
     "delete_cmd_prefix": "rm(",
     "library": "var_list.r",
     "varRefreshCmd": "cat(var_dic_list()) "
    }
   },
   "types_to_exclude": [
    "module",
    "function",
    "builtin_function_or_method",
    "instance",
    "_Feature"
   ],
   "window_display": false
  }
 },
 "nbformat": 4,
 "nbformat_minor": 2
}
