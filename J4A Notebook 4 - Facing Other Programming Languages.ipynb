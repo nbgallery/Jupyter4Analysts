{
 "cells": [
  {
   "cell_type": "markdown",
   "metadata": {},
   "source": [
    "Jupyter for Analysts - Notebook 4"
   ]
  },
  {
   "cell_type": "markdown",
   "metadata": {
    "ExecuteTime": {
     "end_time": "2019-01-29T17:07:25.732221Z",
     "start_time": "2019-01-29T17:07:25.684Z"
    }
   },
   "source": [
    "# Welcome to Jupyter for Analysts Notebook 4!!!"
   ]
  },
  {
   "cell_type": "markdown",
   "metadata": {},
   "source": [
    "<div class='row'>\n",
    "   <div class='col-md-5'>\n",
    "   In notebook 4 of this series, you used widgets in the Python programming language. Actually, all of the notebooks <b>UNTIL </b>this one have been using Python.\n",
    "    <br>\n",
    "    <br>\n",
    "    Naturally, we want to show you that a notebook can be in ANY programming language for you to use it. This notebook is written in a programming language called <b style='color:#e65c00'> Ruby </b>. It queries the <a href='http://www.datamuse.com/api/'>Datamuse API</a> (a word-finding query engine) to find words related to another word that you enter.\n",
    "    <br>\n",
    "    <br>\n",
    "    Let's have you go through this notebook at the 'notebook pace' this time. Unfortunately not all notebooks are documented and thought out like the Jupyter 4 Analyst notebooks (humble brag, thank you). They do not have step by step guidance. So, follow the steps below, and finish the rest of the notebook yourself!\n",
    "    <br>\n",
    "    <br>\n",
    "    </div>\n",
    "    <div class='col-md-7'>\n",
    "         <img src=\"J4A_Pics/one_does_not_simply.png\">\n",
    "    </div>\n",
    "</div>"
   ]
  },
  {
   "cell_type": "markdown",
   "metadata": {},
   "source": [
    "<b style='color:#e65c00'>Steps:</b>\n",
    "1. Run the first cell. There will be a popup asking for your input! Follow the input example guideline at the top. *Hint: Other than the input, these other form fields are just to familiarize you with Ruby widgets (and that they differ from Python). They actually will NOT do anything to the code and are purely examples.*\n",
    "2. Run the second cell, and see results!"
   ]
  },
  {
   "cell_type": "code",
   "execution_count": null,
   "metadata": {},
   "outputs": [],
   "source": [
    "params = IRuby.popup('Enter parameters') do\n",
    "  input :word, label: 'Enter a word:'\n",
    "  select :operation, 'rhymes with', 'sounds like', 'spelled like', label: 'Operation to perform:', default: 'rhymes with'\n",
    "  button :submit\n",
    "end\n",
    "nil"
   ]
  },
  {
   "cell_type": "code",
   "execution_count": null,
   "metadata": {},
   "outputs": [],
   "source": [
    "require 'httparty'\n",
    "url = 'https://api.datamuse.com/words?max=10'\n",
    "case params[:operation]\n",
    "when 'rhymes with'\n",
    "  url += \"&rel_rhy=#{params[:word]}\"\n",
    "when 'sounds like'\n",
    "  url += \"&sl=#{params[:word]}\"\n",
    "when 'spelled like'\n",
    "  url += \"&sp=#{params[:word]}\"\n",
    "end\n",
    "response = HTTParty.get url\n",
    "IRuby.display(IRuby.table(response.parsed_response))\n",
    "nil"
   ]
  },
  {
   "cell_type": "markdown",
   "metadata": {},
   "source": [
    "<hr>\n",
    "<div class='alert alert-block alert-info' align='center'>\n",
    "<br>Hey! Look at you! You ran a notebook with minimal guidance. YIPPPPEEE!\n",
    "<br>\n",
    "    <br>Let's head on over to <a href=\"J4A Notebook 5 - Dashboard Notebooks.ipynb\"> <b>Notebook 5</b></a>\n",
    "<br>\n",
    "<br> <a href='Jupyter 4 Analysts (J4A).ipynb'> Jupyter for Analysts Homepage</a>"
   ]
  }
 ],
 "metadata": {
  "kernelspec": {
   "display_name": "Ruby 2.5.1",
   "language": "ruby",
   "name": "ruby"
  },
  "language_info": {
   "file_extension": ".rb",
   "mimetype": "application/x-ruby",
   "name": "ruby",
   "version": "2.5.1"
  },
  "toc": {
   "base_numbering": 1,
   "nav_menu": {},
   "number_sections": true,
   "sideBar": true,
   "skip_h1_title": false,
   "title_cell": "Table of Contents",
   "title_sidebar": "Contents",
   "toc_cell": false,
   "toc_position": {},
   "toc_section_display": true,
   "toc_window_display": false
  },
  "varInspector": {
   "cols": {
    "lenName": 16,
    "lenType": 16,
    "lenVar": 40
   },
   "kernels_config": {
    "python": {
     "delete_cmd_postfix": "",
     "delete_cmd_prefix": "del ",
     "library": "var_list.py",
     "varRefreshCmd": "print(var_dic_list())"
    },
    "r": {
     "delete_cmd_postfix": ") ",
     "delete_cmd_prefix": "rm(",
     "library": "var_list.r",
     "varRefreshCmd": "cat(var_dic_list()) "
    }
   },
   "types_to_exclude": [
    "module",
    "function",
    "builtin_function_or_method",
    "instance",
    "_Feature"
   ],
   "window_display": false
  }
 },
 "nbformat": 4,
 "nbformat_minor": 2
}
