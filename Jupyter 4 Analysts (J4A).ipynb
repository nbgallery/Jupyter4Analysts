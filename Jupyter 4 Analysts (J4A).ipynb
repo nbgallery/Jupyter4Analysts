{
 "cells": [
  {
   "cell_type": "markdown",
   "metadata": {},
   "source": [
    "# Welcome to Jupyter 4 Analysts (J4A)!"
   ]
  },
  {
   "cell_type": "markdown",
   "metadata": {},
   "source": [
    "<div class=\"row\">\n",
    "    <div class=\"col-7\">Somewhere along our Jupyter journey, we discovered that analysts wanted to learn how to use Jupyter and not necessarily learn how to code. There are so many analytics that analysts can use on Jupyter... and they don't require any knowledge of code!\n",
    "        <br>\n",
    "<br> Our goal of this notebook series is to teach analysts how to navigate Jupyter. You will learn things like Jupyter syntax, how to use different types of notebooks, what to do when you get an error, and (most importantly) how to interact with Jupyter notebooks to fit your needs.\n",
    "        <div class=\"col-3\">\n",
    "           <img src=\"J4A_Pics/J4A_logo.png\" width=\"30%\">\n",
    "    </div>\n",
    "    </div>"
   ]
  },
  {
   "cell_type": "markdown",
   "metadata": {},
   "source": [
    "# Getting Started"
   ]
  },
  {
   "cell_type": "markdown",
   "metadata": {},
   "source": [
    "To get started using Jupyter 4 Analysts, please click the 'launch' button next to the word 'Binder' in the README."
   ]
  },
  {
   "cell_type": "markdown",
   "metadata": {},
   "source": [
    "# Table of Contents"
   ]
  },
  {
   "cell_type": "markdown",
   "metadata": {},
   "source": [
    "<div class=\"row\">\n",
    "    <div class=\"col-md-5\">\n",
    "        <br>\n",
    "        <br>\n",
    "        <br>\n",
    "        <br>\n",
    "        <a href='J4A Notebook 1 - Jupyter Syntax and Other Things.ipynb'> J4A Notebook 1 - Jupyter Syntax and Other Things </a>\n",
    "    </div>\n",
    "    <div class=\"col-md-5\">\n",
    "        <img src=\"J4A_Pics/jupyter_everywhere.jpg\">\n",
    "    </div>\n",
    "</div>\n",
    "<br>\n",
    "<br>\n",
    "        "
   ]
  },
  {
   "cell_type": "markdown",
   "metadata": {
    "ExecuteTime": {
     "end_time": "2019-02-06T19:16:17.278435Z",
     "start_time": "2019-02-06T19:16:17.271019Z"
    }
   },
   "source": [
    "<div class=\"row\">\n",
    "    <div class=\"col-md-5\">\n",
    "        <br>\n",
    "        <br>\n",
    "        <br>\n",
    "        <br>\n",
    "        <a href='J4A Notebook 2 - Data Analysis.ipynb'> J4A Notebook 2 - Data Analysis </a>\n",
    "    </div>\n",
    "    <div class=\"col-md-5\">\n",
    "       <img src=\"J4A_Pics/that_great.jpg\">\n",
    "    </div>\n",
    "</div>\n",
    "<br>\n",
    "<br>"
   ]
  },
  {
   "cell_type": "markdown",
   "metadata": {},
   "source": [
    "<div class=\"row\">\n",
    "    <div class=\"col-md-5\">\n",
    "        <br>\n",
    "        <br>\n",
    "        <br>\n",
    "        <br>\n",
    "        <a href='J4A Notebook 3 - Widgets & Querying an API.ipynb'>J4A Notebook 3 - Widgets & Querying an API </a>\n",
    "    </div>\n",
    "    <div class=\"col-md-5\">\n",
    "        <img src=\"J4A_Pics/minions.jpg\">\n",
    "    </div>\n",
    "</div>\n",
    "<br>\n",
    "<br>"
   ]
  },
  {
   "cell_type": "markdown",
   "metadata": {},
   "source": [
    "<div class=\"row\">\n",
    "    <div class=\"col-md-5\">\n",
    "        <br>\n",
    "        <br>\n",
    "        <br>\n",
    "        <br>\n",
    "        <a href='J4A Notebook 4 - Facing Other Programming Languages.ipynb'>Notebook 4 - Facing Other Programming Languages</a>\n",
    "    </div>\n",
    "    <div class=\"col-md-5\">\n",
    "        <img src=\"J4A_Pics/one_does_not_simply.png\">\n",
    "    </div>\n",
    "</div>\n",
    "<br>\n",
    "<br>"
   ]
  },
  {
   "cell_type": "markdown",
   "metadata": {},
   "source": [
    "<div class=\"row\">\n",
    "    <div class=\"col-md-5\">\n",
    "        <br>\n",
    "        <br>\n",
    "        <br>\n",
    "        <br>\n",
    "        <a href='J4A Notebook 5 - Dashboard Notebooks.ipynb'>Notebook 5 - Dashboards to the Rescue</a>\n",
    "    </div>\n",
    "    <div class=\"col-md-5\">\n",
    "        <img src=\"J4A_Pics/no_coding.png\">\n",
    "    </div>\n",
    "</div>\n",
    "<br>\n",
    "<br>"
   ]
  },
  {
   "cell_type": "markdown",
   "metadata": {},
   "source": [
    "<div class=\"row\">\n",
    "    <div class=\"col-md-5\">\n",
    "        <br>\n",
    "        <br>\n",
    "        <br>\n",
    "        <br>\n",
    "        <a href='J4A Notebook 6 - Notebook Errors.ipynb'>Notebook 6 - Notebook Errors</a>\n",
    "    </div>\n",
    "    <div class=\"col-md-5\">\n",
    "        <img src=\"J4A_Pics/errors.jpg\">\n",
    "    </div>\n",
    "</div>\n",
    "<br>\n",
    "<br>"
   ]
  }
 ],
 "metadata": {
  "kernelspec": {
   "display_name": "Python 3",
   "language": "python",
   "name": "python3"
  },
  "language_info": {
   "codemirror_mode": {
    "name": "ipython",
    "version": 3
   },
   "file_extension": ".py",
   "mimetype": "text/x-python",
   "name": "python",
   "nbconvert_exporter": "python",
   "pygments_lexer": "ipython3",
   "version": "3.7.4"
  },
  "toc": {
   "base_numbering": 1,
   "nav_menu": {},
   "number_sections": true,
   "sideBar": true,
   "skip_h1_title": false,
   "title_cell": "Table of Contents",
   "title_sidebar": "Contents",
   "toc_cell": false,
   "toc_position": {},
   "toc_section_display": true,
   "toc_window_display": false
  },
  "varInspector": {
   "cols": {
    "lenName": 16,
    "lenType": 16,
    "lenVar": 40
   },
   "kernels_config": {
    "python": {
     "delete_cmd_postfix": "",
     "delete_cmd_prefix": "del ",
     "library": "var_list.py",
     "varRefreshCmd": "print(var_dic_list())"
    },
    "r": {
     "delete_cmd_postfix": ") ",
     "delete_cmd_prefix": "rm(",
     "library": "var_list.r",
     "varRefreshCmd": "cat(var_dic_list()) "
    }
   },
   "types_to_exclude": [
    "module",
    "function",
    "builtin_function_or_method",
    "instance",
    "_Feature"
   ],
   "window_display": false
  }
 },
 "nbformat": 4,
 "nbformat_minor": 2
}
