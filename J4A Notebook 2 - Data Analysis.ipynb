{
 "cells": [
  {
   "cell_type": "markdown",
   "metadata": {},
   "source": [
    "Jupyter for Analysts - Notebook 2"
   ]
  },
  {
   "cell_type": "markdown",
   "metadata": {},
   "source": [
    "# Notebook 2 already?! Let's do this!"
   ]
  },
  {
   "cell_type": "markdown",
   "metadata": {},
   "source": [
    "<div class='row'>\n",
    "   <div class='col-md-5'> \n",
    "    <br>       \n",
    "    <br>\n",
    "    <br>\n",
    "    <br>\n",
    "    <br>\n",
    "    <br>Now that you have officially ran your first notebook (claps enthusiatically), let's run a notebook that performs some type of data analysis. You know... something your boss really wants you to do.\n",
    "    <br>\n",
    "       <br>If you are wild, use the <strong> Shift + Enter </strong> shortcut to run the cell you are in and move to the next cell at the same time!\n",
    "    </div>\n",
    "    <div class='col-md-7'>\n",
    "        <img src=\"J4A_Pics/that_great.jpg\" />\n",
    "    </div>\n",
    "</div>\n",
    "<hr>"
   ]
  },
  {
   "cell_type": "markdown",
   "metadata": {},
   "source": [
    "<h2>Dave: The Analyst</h2>"
   ]
  },
  {
   "cell_type": "markdown",
   "metadata": {},
   "source": [
    "One day, an analyst named Dave was looking through his <i>That's What I Call Music</i> spotify playlist. He realized that there are A LOT of different artists over these 1228 songs! A curious analyst, Dave wondered which artist appeared the most throughout these songs.\n",
    "<br>\n",
    "<br> Dave went searching for a <i>'That's What I Call Music'</i> data set online. Low and behold, he found one that was perfect to use with Jupyter notebooks!"
   ]
  },
  {
   "cell_type": "markdown",
   "metadata": {},
   "source": [
    "<h3> What does Dave do next with his data? </h3>\n",
    "<br>Dave downloaded his dataset to his Jupyter notebook and displayed it in a table using the code below!\n",
    "<br>\n",
    "<br> <strong> Hey, you try!! </strong> \n",
    "<br> Run the code cell below. It might take a minute or two to 'import' everything. When the cell is done running, the asterik will turn in to a number on the left hand side AND a table of data will display below.\n",
    "<br>\n",
    "<br> <i> **** Don't worry about what any of this code means! Just run the cell wait until you see a 'table' displayed in the output! :)</i>"
   ]
  },
  {
   "cell_type": "code",
   "execution_count": null,
   "metadata": {},
   "outputs": [],
   "source": [
    "#This code imports a 'package' in python. Don't worry about what this means!\n",
    "import ipydeps\n",
    "ipydeps.pip('pandas')\n",
    "import pandas as pd\n",
    "\n",
    "##This code reads in a CSV file from nbgallery's cloud, and then displays the data in a table format.\n",
    "df = pd.read_csv(\"Datasets/Now_with_Spotify_Final.csv\")\n",
    "data = df[['number', 'volume_number', 'artist', 'title', 'duration']].copy()\n",
    "data"
   ]
  },
  {
   "cell_type": "markdown",
   "metadata": {},
   "source": [
    "Wowz-ers! Pretty impressive dataset, right? Haven't seen some of these songs in awhile!\n",
    "<br>\n",
    "<br> See those dots in the middle of the table? That means there is a lot more data in there, but Jupyter is only showing you the first couple of rows and the last couple of rows. So, this can be a bit overwhelming to have all of that data! I think I will only really need to see the first 5 rows at a time to understand what kind of data I have.\n",
    "<br>\n",
    "<br> Run the next code block to see just the first 5 rows of data from the data set."
   ]
  },
  {
   "cell_type": "code",
   "execution_count": null,
   "metadata": {},
   "outputs": [],
   "source": [
    "data.head()"
   ]
  },
  {
   "cell_type": "markdown",
   "metadata": {},
   "source": [
    "Much better to read and get a gist of the information. Sometimes notebooks will only share a couple of rows of data like this upfront. This doesn't always mean there are only 5 rows, though! "
   ]
  },
  {
   "cell_type": "markdown",
   "metadata": {},
   "source": [
    "<br> Ok, so now let's move on to answer <strong>'which artist appears the most over these 61 volumes?'</strong>\n",
    "<br>\n",
    "<br> Run the code below to find out the which artist appeared the most on these 61 'That's what I call music' cd's. Read the output yourself and take a guess before looking at the next cell (which has the answer in it!)"
   ]
  },
  {
   "cell_type": "code",
   "execution_count": null,
   "metadata": {},
   "outputs": [],
   "source": [
    "#This code take the 'data' table, specifies it wants to look at the artist column, \n",
    "#then counts the unique number of times an artist appears.\n",
    "data.artist.value_counts()"
   ]
  },
  {
   "cell_type": "markdown",
   "metadata": {},
   "source": [
    "Once Dave ran the code, he said \"Wow! I listen to all these cd's all the time! I didn't know I listened to <strong>Britney Spears</strong> that much! I wonder what else I can do with a Jupyter notebook...\"\n",
    "<hr>"
   ]
  },
  {
   "cell_type": "markdown",
   "metadata": {},
   "source": [
    "Run the code below to see some basic statistics based off of the <b> duration </b> column from our data."
   ]
  },
  {
   "cell_type": "code",
   "execution_count": null,
   "metadata": {},
   "outputs": [],
   "source": [
    "data.duration.describe()"
   ]
  },
  {
   "cell_type": "markdown",
   "metadata": {},
   "source": [
    "Hmm... looking at the output... it looks like the average (mean) duration is about 222 seconds! The longest song (max) in the series is 353 seconds, and the shortest (min) is 125 seconds. *\"I wonder what the shortest and longest songs are...\"*\n",
    "<hr>"
   ]
  },
  {
   "cell_type": "markdown",
   "metadata": {},
   "source": [
    "# Exercise 2: Interacting with a Jupyter Notebook 'code'"
   ]
  },
  {
   "cell_type": "markdown",
   "metadata": {},
   "source": [
    "Now we know the values for the shortest and longest song... let's use them to find the longest song and the shortest song!\n",
    "<br>\n",
    "<br> This time when you run the code, the <b> output </b> is going to ask <b> YOU </b> for input! In the text box, enter the number for the max when running the code for the longest song and enter the number for min when you are asked to find the shortest song. For example, the longest song is <b> 353 </b>.\n",
    "<br>\n",
    "<br> <b> You got this: </b>Run the code. Enter the number in the pop-up text box where the output would be. Then press 'Enter'."
   ]
  },
  {
   "cell_type": "markdown",
   "metadata": {},
   "source": [
    "Run the code below to look at the longest song:"
   ]
  },
  {
   "cell_type": "code",
   "execution_count": null,
   "metadata": {},
   "outputs": [],
   "source": [
    "## this code asks the user to input the length of the longest song\n",
    "## it then takes the number the user inputs and finds the song that matches that value\n",
    "x = input('Please enter the length of the LONGEST song: ')\n",
    "data.loc[data['duration'] == float(x)]"
   ]
  },
  {
   "cell_type": "markdown",
   "metadata": {},
   "source": [
    "Looks like JT holds the longest song! It can be found on cd 48, song 3. The title is 'Take Back the Night' and it is 5 min and 55 seconds (353/60). "
   ]
  },
  {
   "cell_type": "markdown",
   "metadata": {},
   "source": [
    "Ok. Now it's your turn to do the <b> exact same thing as above </b> except you need to <b>change the number value to the shortest song length</b>. Run the code below to look at the shortest song:"
   ]
  },
  {
   "cell_type": "code",
   "execution_count": null,
   "metadata": {},
   "outputs": [],
   "source": [
    "## this code asks the user to input the length of the shortest song\n",
    "## it then takes the number the user inputs and finds the song that matches that value\n",
    "y = input('Please enter the length of the SHORTEST song: ')\n",
    "data.loc[data['duration'] == float(y)]"
   ]
  },
  {
   "cell_type": "markdown",
   "metadata": {},
   "source": [
    "Anna Kendrick holds the shortest song! It can be found on cd 47, song 12. The title is 'Cups' and it is 2 min and 7 seconds (125/60). "
   ]
  },
  {
   "cell_type": "markdown",
   "metadata": {},
   "source": [
    "<hr>\n",
    "<div class='alert alert-block alert-info' align='center'>\n",
    "Congratulations!\n",
    "<br>\n",
    "<br>You just interacted with Jupyter notebook code yourself! I knew you could do it ;)\n",
    "<br>\n",
    "    <br>Head on over to <a href=\"J4A Notebook 3 - Widgets & Querying an API.ipynb\"> <b>J4A Notebook 3</b></a> and see some other cool things Jupyter notebook can do!\n",
    "<br>\n",
    "    <br>\n",
    "    <a href=\"Jupyter 4 Analysts (J4A).ipynb\">Jupyter 4 Analyts Homepage</a>"
   ]
  }
 ],
 "metadata": {
  "kernelspec": {
   "display_name": "Python 3",
   "language": "python",
   "name": "python3"
  },
  "language_info": {
   "codemirror_mode": {
    "name": "ipython",
    "version": 3
   },
   "file_extension": ".py",
   "mimetype": "text/x-python",
   "name": "python",
   "nbconvert_exporter": "python",
   "pygments_lexer": "ipython3",
   "version": "3.7.3"
  },
  "toc": {
   "base_numbering": 1,
   "nav_menu": {},
   "number_sections": true,
   "sideBar": true,
   "skip_h1_title": false,
   "title_cell": "Table of Contents",
   "title_sidebar": "Contents",
   "toc_cell": false,
   "toc_position": {},
   "toc_section_display": true,
   "toc_window_display": false
  },
  "varInspector": {
   "cols": {
    "lenName": 16,
    "lenType": 16,
    "lenVar": 40
   },
   "kernels_config": {
    "python": {
     "delete_cmd_postfix": "",
     "delete_cmd_prefix": "del ",
     "library": "var_list.py",
     "varRefreshCmd": "print(var_dic_list())"
    },
    "r": {
     "delete_cmd_postfix": ") ",
     "delete_cmd_prefix": "rm(",
     "library": "var_list.r",
     "varRefreshCmd": "cat(var_dic_list()) "
    }
   },
   "types_to_exclude": [
    "module",
    "function",
    "builtin_function_or_method",
    "instance",
    "_Feature"
   ],
   "window_display": false
  }
 },
 "nbformat": 4,
 "nbformat_minor": 2
}
